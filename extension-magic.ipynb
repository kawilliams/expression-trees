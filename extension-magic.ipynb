{
 "cells": [
  {
   "cell_type": "code",
   "execution_count": 1,
   "metadata": {
    "collapsed": true
   },
   "outputs": [],
   "source": [
    "%load_ext csvmagic"
   ]
  },
  {
   "cell_type": "code",
   "execution_count": 2,
   "metadata": {
    "collapsed": true
   },
   "outputs": [],
   "source": [
    "%reload_ext csvmagic"
   ]
  },
  {
   "cell_type": "code",
   "execution_count": 3,
   "metadata": {},
   "outputs": [
    {
     "data": {
      "text/html": [
       "\n",
       "    <script src=\"http://d3js.org/d3.v3.min.js\" charset=\"utf-8\"></script>\n",
       "    <svg width=\"100\" height=\"100\">\n",
       "  \t\t<circle cx=\"50\" cy=\"50\" r=\"40\" stroke=\"green\" stroke-width=\"4\" fill=\"yellow\" />\n",
       "\t</svg>\n",
       "\t<g id=\"vis-g\"></g>\n",
       "    "
      ],
      "text/plain": [
       "<IPython.core.display.HTML object>"
      ]
     },
     "metadata": {},
     "output_type": "display_data"
    },
    {
     "data": {
      "application/javascript": [
       "\n",
       "    console.log(window.innerWidth);\n",
       "    var margin = {top: 50, right: 50, bottom: 50, left: 50}\n",
       "  \t, width = window.innerWidth - margin.left - margin.right // Use the window's width \n",
       "  \t, height = window.innerHeight - margin.top - margin.bottom; // Use the window's height\n",
       "\n",
       "\t// The number of datapoints\n",
       "\tvar n = 21;\n",
       "\n",
       "\t// 5. X scale will use the index of our data\n",
       "\tvar xScale = d3.scaleLinear()\n",
       "\t    .domain([0, n-1]) // input\n",
       "\t    .range([0, width]); // output\n",
       "\n",
       "\t// 6. Y scale will use the randomly generate number \n",
       "\tvar yScale = d3.scaleLinear()\n",
       "\t    .domain([0, 1]) // input \n",
       "\t    .range([height, 0]); // output \n",
       "\t// 7. d3's line generator\n",
       "\tvar line = d3.line()\n",
       "\t\t.x(function(d, i) { return xScale(i); }) // set the x values for the line generator\n",
       "\t\t.y(function(d) { return yScale(d.y); }) // set the y values for the line generator \n",
       "\t\t.curve(d3.curveMonotoneX) // apply smoothing to the line\n",
       "\n",
       "\t// 8. An array of objects of length N. Each object has key -> value pair, the key being \"y\" and the value is a random number\n",
       "\tvar dataset = d3.range(n).map(function(d) { return {\"y\": d3.randomUniform(1)() } })\n",
       "\n",
       "\t// 1. Add the SVG to the page and employ #2\n",
       "\tvar svg = d3.select(\"#vis-g\").append(\"svg\")\n",
       "\t\t.attr(\"width\", width + margin.left + margin.right)\n",
       "\t\t.attr(\"height\", height + margin.top + margin.bottom)\n",
       "\t\t.append(\"g\")\n",
       "\t\t.attr(\"transform\", \"translate(\" + margin.left + \",\" + margin.top + \")\");\n",
       "\n",
       "\t// 3. Call the x axis in a group tag\n",
       "\tsvg.append(\"g\")\n",
       "\t\t.attr(\"class\", \"x axis\")\n",
       "\t\t.attr(\"transform\", \"translate(0,\" + height + \")\")\n",
       "\t\t.call(d3.axisBottom(xScale)); // Create an axis component with d3.axisBottom\n",
       "\n",
       "\t// 4. Call the y axis in a group tag\n",
       "\tsvg.append(\"g\")\n",
       "\t\t.attr(\"class\", \"y axis\")\n",
       "\t\t.call(d3.axisLeft(yScale)); // Create an axis component with d3.axisLeft\n",
       "\n",
       "\t// 9. Append the path, bind the data, and call the line generator \n",
       "\tsvg.append(\"path\")\n",
       "\t\t.datum(dataset) // 10. Binds data to the line \n",
       "\t\t.attr(\"class\", \"line\") // Assign a class for styling \n",
       "\t\t.attr(\"d\", line); // 11. Calls the line generator \n",
       "\n",
       "\t// 12. Appends a circle for each datapoint \n",
       "\tsvg.selectAll(\".dot\")\n",
       "\t\t.data(dataset)\n",
       "\t\t.enter().append(\"circle\") // Uses the enter().append() method\n",
       "\t\t.attr(\"class\", \"dot\") // Assign a class for styling\n",
       "\t\t.attr(\"cx\", function(d, i) { return xScale(i) })\n",
       "\t\t.attr(\"cy\", function(d) { return yScale(d.y) })\n",
       "\t\t.attr(\"r\", 5);\n",
       "\n",
       "    "
      ],
      "text/plain": [
       "<IPython.core.display.Javascript object>"
      ]
     },
     "metadata": {},
     "output_type": "display_data"
    }
   ],
   "source": [
    "%hello"
   ]
  },
  {
   "cell_type": "code",
   "execution_count": 49,
   "metadata": {},
   "outputs": [
    {
     "name": "stdout",
     "output_type": "stream",
     "text": [
      "katy\n"
     ]
    },
    {
     "data": {
      "text/html": [
       "katy"
      ],
      "text/plain": [
       "<IPython.core.display.HTML object>"
      ]
     },
     "metadata": {},
     "output_type": "display_data"
    },
    {
     "name": "stdout",
     "output_type": "stream",
     "text": [
      "magic d3\n"
     ]
    }
   ],
   "source": [
    "%magicd3 asdf"
   ]
  },
  {
   "cell_type": "code",
   "execution_count": 52,
   "metadata": {
    "collapsed": true
   },
   "outputs": [],
   "source": [
    "%load_ext readdocs_defmagics"
   ]
  },
  {
   "cell_type": "code",
   "execution_count": 53,
   "metadata": {},
   "outputs": [
    {
     "name": "stdout",
     "output_type": "stream",
     "text": [
      "Full access to the main IPython object: <ipykernel.zmqshell.ZMQInteractiveShell object at 0x10ba31a10>\n",
      "Variables in the user namespace: ['_dh', '__', '_i52', '_i53', '_i39', '__builtin__', '_i50', '_i34', '_iii', '_i38', '_i49', 'quit', '_i9', '_i8', '_i7', '_i6', '_i5', '_i4', '_i3', '_i2', '_i1', '_i28', '_i44', 'exit', 'get_ipython', '_i', '_i29', '_i26', '_i27', '_i24', '_i14', '_i22', '__doc__', '_i20', '_i21', '_i47', '_i48', '_ii', '__builtins__', '_i45', '_i46', 'In', '_i40', '_i41', '_i42', '_i36', '_i51', '_i32', '__name__', '___', '_i43', '_i33', '_', '_sh', '_i25', '_i23', '_i13', '_i12', '_i11', '_i10', '_i17', '_i16', '_i15', '_ih', '_i31', '_i30', '_i19', '_i18', '_i35', '_oh', '_i37', 'Out']\n"
     ]
    },
    {
     "data": {
      "text/plain": [
       "u''"
      ]
     },
     "execution_count": 53,
     "metadata": {},
     "output_type": "execute_result"
    }
   ],
   "source": [
    "%lmagic"
   ]
  },
  {
   "cell_type": "code",
   "execution_count": 54,
   "metadata": {},
   "outputs": [
    {
     "data": {
      "text/plain": [
       "[u'/Users/katywilliams/Dx/research/jupyter-vis/hidden-js-ipynb']"
      ]
     },
     "execution_count": 54,
     "metadata": {},
     "output_type": "execute_result"
    }
   ],
   "source": [
    "_dh"
   ]
  },
  {
   "cell_type": "code",
   "execution_count": 55,
   "metadata": {},
   "outputs": [
    {
     "data": {
      "text/plain": [
       "u'%load_ext readdocs_defmagics'"
      ]
     },
     "execution_count": 55,
     "metadata": {},
     "output_type": "execute_result"
    }
   ],
   "source": [
    "_i52"
   ]
  },
  {
   "cell_type": "code",
   "execution_count": 56,
   "metadata": {},
   "outputs": [
    {
     "data": {
      "text/plain": [
       "{53: u'',\n",
       " 54: [u'/Users/katywilliams/Dx/research/jupyter-vis/hidden-js-ipynb'],\n",
       " 55: u'%load_ext readdocs_defmagics'}"
      ]
     },
     "execution_count": 56,
     "metadata": {},
     "output_type": "execute_result"
    }
   ],
   "source": [
    "Out"
   ]
  },
  {
   "cell_type": "code",
   "execution_count": 58,
   "metadata": {
    "collapsed": true
   },
   "outputs": [],
   "source": [
    "Out[\"katy\"] = 22"
   ]
  },
  {
   "cell_type": "code",
   "execution_count": 59,
   "metadata": {},
   "outputs": [
    {
     "data": {
      "text/plain": [
       "{53: u'',\n",
       " 54: [u'/Users/katywilliams/Dx/research/jupyter-vis/hidden-js-ipynb'],\n",
       " 55: u'%load_ext readdocs_defmagics',\n",
       " 'katy': 22}"
      ]
     },
     "execution_count": 59,
     "metadata": {},
     "output_type": "execute_result"
    }
   ],
   "source": [
    "Out"
   ]
  },
  {
   "cell_type": "code",
   "execution_count": 60,
   "metadata": {
    "collapsed": true
   },
   "outputs": [],
   "source": [
    "Out[60] = \"asdf\""
   ]
  },
  {
   "cell_type": "code",
   "execution_count": 61,
   "metadata": {},
   "outputs": [
    {
     "data": {
      "text/plain": [
       "{53: u'',\n",
       " 54: [u'/Users/katywilliams/Dx/research/jupyter-vis/hidden-js-ipynb'],\n",
       " 55: u'%load_ext readdocs_defmagics',\n",
       " 60: 'asdf',\n",
       " 'katy': 22}"
      ]
     },
     "execution_count": 61,
     "metadata": {},
     "output_type": "execute_result"
    }
   ],
   "source": [
    "Out"
   ]
  },
  {
   "cell_type": "code",
   "execution_count": 170,
   "metadata": {
    "collapsed": true
   },
   "outputs": [],
   "source": [
    "%reload_ext readdocs_defmagics"
   ]
  },
  {
   "cell_type": "code",
   "execution_count": 171,
   "metadata": {},
   "outputs": [
    {
     "name": "stdout",
     "output_type": "stream",
     "text": [
      "22\n"
     ]
    },
    {
     "data": {
      "text/html": [
       "\n",
       "        <style>\n",
       "\n",
       "        #vis-svg div {\n",
       "          font: 10px sans-serif;\n",
       "          background-color: steelblue;\n",
       "          text-align: right;\n",
       "          padding: 3px;\n",
       "          margin: 1px;\n",
       "          color: white;\n",
       "        }\n",
       "        </style>\n",
       "        <svg id=\"vis-svg\" width=\"720\" height=\"420\">\n",
       "        </svg>\n",
       "        <script src=\"d3.v4.min.js\"></script>\n",
       "        <script>\n",
       "        data = [1, 2, 3, 4, 5];\n",
       "\n",
       "        var x = d3.scale.linear()\n",
       "        .domain([0, d3.max(data)])\n",
       "        .range([0,420]);\n",
       "\n",
       "        var colors = [\"red\", \"yellow\", \"orange\", \"green\", \"blue\", \"purple\", \"pink\"];\n",
       "\n",
       "        d3.select(\"#vis-svg\").selectAll(\"rect\")\n",
       "        .data(data)\n",
       "        .enter().append(\"rect\")\n",
       "        .attr(\"width\", 30)\n",
       "        .attr(\"height\", function(d) { return d*50;})\n",
       "        .attr(\"x\", function(d){ \n",
       "            return (d * 30); \n",
       "        })\n",
       "        .attr(\"y\", function(d){ return 0; })\n",
       "        .style(\"fill\", function(i){\n",
       "            return colors[i];\n",
       "        });\n",
       "        </script>\n",
       "        "
      ],
      "text/plain": [
       "<IPython.core.display.HTML object>"
      ]
     },
     "metadata": {},
     "output_type": "display_data"
    },
    {
     "data": {
      "text/plain": [
       "u''"
      ]
     },
     "execution_count": 171,
     "metadata": {},
     "output_type": "execute_result"
    }
   ],
   "source": [
    "%lmagic"
   ]
  },
  {
   "cell_type": "code",
   "execution_count": null,
   "metadata": {
    "collapsed": true
   },
   "outputs": [],
   "source": []
  }
 ],
 "metadata": {
  "kernelspec": {
   "display_name": "Python 2",
   "language": "python",
   "name": "python2"
  },
  "language_info": {
   "codemirror_mode": {
    "name": "ipython",
    "version": 2
   },
   "file_extension": ".py",
   "mimetype": "text/x-python",
   "name": "python",
   "nbconvert_exporter": "python",
   "pygments_lexer": "ipython2",
   "version": "2.7.14"
  }
 },
 "nbformat": 4,
 "nbformat_minor": 2
}
