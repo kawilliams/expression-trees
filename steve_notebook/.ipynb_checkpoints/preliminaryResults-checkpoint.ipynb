{
 "cells": [
  {
   "cell_type": "code",
   "execution_count": null,
   "metadata": {},
   "outputs": [],
   "source": [
    "%load_ext vis_interface"
   ]
  },
  {
   "cell_type": "code",
   "execution_count": null,
   "metadata": {},
   "outputs": [],
   "source": [
    "# long data with no quotes -- Ruins things for Katy's JS\n",
    "#data = ['primitive_instance,display_name,count,time,eval_direct\\n-argument/n(23, 65) ,7,8215,1\\n /phylanx/access-argument$2$n/1$25$95 , access-argument/n(25, 95) ,7,8531,1\\n /phylanx/access-function$0$factorial/1$24$65 , access-function/factorial(24, 65) ,1,1461,1\\n /phylanx/access-function$0$factorial/2$41$7 , access-function/factorial(41, 7) ,1,1461,1\\n /phylanx/access-variable$0$result/1$21$45 , access-variable/result(21, 45) ,0,0,1\\n /phylanx/access-variable$1$result/1$35$27 , access-variable/result(35, 27) ,8,20524,1\\n /phylanx/access-variable$2$sys_argv/2$41$18 , access-variable/sys_argv(41, 18) ,1,5245,1\\n /phylanx/apply$0/2$41$1 , apply(41, 1) ,1,20837109,-1\\n /phylanx/block$0/1$16$9 , block(16, 9) ,8,63034864,1\\n /phylanx/block$1/1$32$43 , block(32, 43) ,1,3152,-1\\n /phylanx/call-function$0$factorial/1$24$65 , call-function/factorial(24, 65) ,7,62149537,1\\n /phylanx/define-variable$1$result/1$17$24 , define-variable/result(17, 24) ,1,18825,-1\\n /phylanx/define-variable$2$factorial/1$14$5 , define-variable/factorial(14, 5) ,140685009258112,0,140684673721072\\n /phylanx/function$0$factorial/1$14$5 , function/factorial(14, 5) ,8,63278254,1\\n /phylanx/if$0/1$18$17 , if(18, 17) ,8,62622595,1\\n /phylanx/lambda$0/1$14$5 , lambda(14, 5) ,8,63172763,1\\n /phylanx/store$0/1$20$29 , store(20, 29) ,7,62269847,1\\n /phylanx/variable$0$sys_argv/0$0$0 , variable/sys_argv(0, 0) ,1,4340,1\\n /phylanx/variable$1$result/1$17$24 , variable/result(17, 24) ,8,17598,1','(((((((/phylanx/variable$1$result/1$17$24) /phylanx/define-variable$1$result/1$17$24,((/phylanx/access-argument$0$n/1$19$34) /phylanx/__gt$0/1$19$29,(/phylanx/access-variable$0$result/1$21$45,(/phylanx/access-argument$1$n/1$23$65,(/phylanx/access-function$0$factorial/1$24$65) /phylanx/call-function$0$factorial/1$24$65) /phylanx/__mul$0/1$22$45) /phylanx/store$0/1$20$29,/phylanx/block$1/1$32$43) /phylanx/if$0/1$18$17,/phylanx/access-variable$1$result/1$35$27) /phylanx/block$0/1$16$9) /phylanx/lambda$0/1$14$5) /phylanx/function$0$factorial/1$14$5) /phylanx/access-function$0$factorial/2$41$7,(/phylanx/variable$0$sys_argv/0$0$0) /phylanx/access-variable$2$sys_argv/2$41$18) /phylanx/apply$0/2$41$1) factorial.physl;']"
   ]
  },
  {
   "cell_type": "code",
   "execution_count": null,
   "metadata": {},
   "outputs": [],
   "source": [
    "# Short data no quotes: works b/c names are simple, there aren't commas and parentheses\n",
    "data = ['primitive_instance,display_name,count,time,eval_direct\\nmacintosh,apple,2,20,1\\ngranny_smith,gapple,1,10,0', '(macintosh) gapple;']"
   ]
  },
  {
   "cell_type": "code",
   "execution_count": null,
   "metadata": {
    "scrolled": true
   },
   "outputs": [],
   "source": [
    "#listz = ['katy\\nwilliams', 'woo']"
   ]
  },
  {
   "cell_type": "code",
   "execution_count": null,
   "metadata": {},
   "outputs": [],
   "source": [
    "#Complete dataset (with quotes)\n",
    "data = [\"primitive_instance,display_name,count,time,eval_direct\\n’-argument/n(23, 65)’,7,8215,1\\n’/phylanx/access-argument$2$n/1$25$95’,’access-argument/n(25, 95)’,7,8531,1\\n’/phylanx/access-function$0$factorial/1$24$65’,’access-function/factorial(24, 65)’,1,1461,1\\n’/phylanx/access-function$0$factorial/2$41$7’,’access-function/factorial(41, 7)’,1,1461,1\\n’/phylanx/access-variable$0$result/1$21$45’,’access-variable/result(21, 45)’,0,0,1\\n’/phylanx/access-variable$1$result/1$35$27’,’access-variable/result(35, 27)’,8,20524,1\\n’/phylanx/access-variable$2$sys_argv/2$41$18’,’access-variable/sys_argv(41, 18)’,1,5245,1\\n’/phylanx/apply$0/2$41$1’,’apply(41, 1)’,1,20837109,-1\\n’/phylanx/block$0/1$16$9’,’block(16, 9)’,8,63034864,1\\n’/phylanx/block$1/1$32$43’,’block(32, 43)’,1,3152,-1\\n’/phylanx/call-function$0$factorial/1$24$65’,’call-function/factorial(24, 65)’,7,62149537,1\\n’/phylanx/define-variable$1$result/1$17$24’,’define-variable/result(17, 24)’,1,18825,-1\\n’/phylanx/define-variable$2$factorial/1$14$5’,’define-variable/factorial(14, 5)’,140685009258112,0,140684673721072\\n’/phylanx/function$0$factorial/1$14$5’,’function/factorial(14, 5)’,8,63278254,1\\n’/phylanx/if$0/1$18$17’,’if(18, 17)’,8,62622595,1\\n’/phylanx/lambda$0/1$14$5’,’lambda(14, 5)’,8,63172763,1\\n’/phylanx/store$0/1$20$29’,’store(20, 29)’,7,62269847,1\\n’/phylanx/variable$0$sys_argv/0$0$0’,’variable/sys_argv(0, 0)’,1,4340,1\\n’/phylanx/variable$1$result/1$17$24’,’variable/result(17, 24)’,8,17598,1\", \"(((((((/phylanx/variable$1$result/1$17$24) /phylanx/define-variable$1$result/1$17$24,((/phylanx/access-argument$0$n/1$19$34) /phylanx/__gt$0/1$19$29,(/phylanx/access-variable$0$result/1$21$45,(/phylanx/access-argument$1$n/1$23$65,(/phylanx/access-function$0$factorial/1$24$65) /phylanx/call-function$0$factorial/1$24$65) /phylanx/__mul$0/1$22$45) /phylanx/store$0/1$20$29,/phylanx/block$1/1$32$43) /phylanx/if$0/1$18$17,/phylanx/access-variable$1$result/1$35$27) /phylanx/block$0/1$16$9) /phylanx/lambda$0/1$14$5) /phylanx/function$0$factorial/1$14$5) /phylanx/access-function$0$factorial/2$41$7,(/phylanx/variable$0$sys_argv/0$0$0) /phylanx/access-variable$2$sys_argv/2$41$18) /phylanx/apply$0/2$41$1) factorial.physl;\"]\n",
    "\n",
    "\n"
   ]
  },
  {
   "cell_type": "code",
   "execution_count": null,
   "metadata": {},
   "outputs": [],
   "source": [
    "arg1 = data[0].replace(\" \", \"\")\n",
    "\n",
    "#arg1 = 'primitive_instance,\"display_name\",count,time,eval_direct'\n",
    "\n",
    "arg2 = data[1].replace(\" \", \"\")\n",
    "%loadVisualization myVis5 stringInputExample.js $arg1 $arg2 helper.html"
   ]
  },
  {
   "cell_type": "code",
   "execution_count": null,
   "metadata": {},
   "outputs": [],
   "source": []
  },
  {
   "cell_type": "code",
   "execution_count": null,
   "metadata": {},
   "outputs": [],
   "source": []
  }
 ],
 "metadata": {
  "kernelspec": {
   "display_name": "Python 3",
   "language": "python",
   "name": "python3"
  },
  "language_info": {
   "codemirror_mode": {
    "name": "ipython",
    "version": 3
   },
   "file_extension": ".py",
   "mimetype": "text/x-python",
   "name": "python",
   "nbconvert_exporter": "python",
   "pygments_lexer": "ipython3",
   "version": "3.6.5"
  }
 },
 "nbformat": 4,
 "nbformat_minor": 2
}
